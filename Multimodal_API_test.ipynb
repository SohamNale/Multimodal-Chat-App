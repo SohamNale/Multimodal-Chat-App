{
  "cells": [
    {
      "cell_type": "code",
      "execution_count": null,
      "metadata": {
        "id": "CQU1wgdVB__6"
      },
      "outputs": [],
      "source": [
        "import requests\n",
        "\n",
        "# Replace this with your ngrok public URL (copied from the output of your Flask app)\n",
        "ngrok_url = \"your_ngrok_url_here\"\n",
        "\n",
        "# API endpoint\n",
        "endpoint = f\"{ngrok_url}/generate\"\n",
        "\n",
        "# Test payloads for different models\n",
        "test_payloads = [\n",
        "    {\n",
        "        \"message\": \"What is deep learning?\",\n",
        "        \"model\": \"llama\"  # Test with Llama model\n",
        "    },\n",
        "    {\n",
        "        \"message\": \"Explain the importance of AI ethics.\",\n",
        "        \"model\": \"gemini\"  # Test with Gemini model\n",
        "    },\n",
        "    {\n",
        "        \"message\": \"What are neural networks?\",\n",
        "        \"model\": \"mistral\"  # Test with Mistral model\n",
        "    }\n",
        "]\n",
        "\n",
        "# Test each payload\n",
        "for payload in test_payloads:\n",
        "    print(f\"Testing with model: {payload['model']}\")\n",
        "    try:\n",
        "        response = requests.post(endpoint, json=payload)\n",
        "        if response.status_code == 200:\n",
        "            print(\"Response from API:\")\n",
        "            output = response.json()\n",
        "            print(output['response'])\n",
        "        else:\n",
        "            print(f\"Error: {response.status_code} - {response.text}\")\n",
        "    except requests.exceptions.RequestException as e:\n",
        "        print(f\"Error connecting to the API: {e}\")\n",
        "    print(\"\\n\")"
      ]
    }
  ],
  "metadata": {
    "colab": {
      "provenance": []
    },
    "kernelspec": {
      "display_name": "Python 3",
      "name": "python3"
    },
    "language_info": {
      "name": "python"
    }
  },
  "nbformat": 4,
  "nbformat_minor": 0
}
